{
 "cells": [
  {
   "cell_type": "code",
   "execution_count": 14,
   "id": "ed239eb3-235b-4a72-a9e2-324fcfdabde9",
   "metadata": {},
   "outputs": [],
   "source": [
    "import pandas as pd\n",
    "imort os"
   ]
  },
  {
   "cell_type": "code",
   "execution_count": 15,
   "id": "765d0e88-15c1-4bad-a34e-928094654810",
   "metadata": {},
   "outputs": [
    {
     "name": "stdout",
     "output_type": "stream",
     "text": [
      "Griffin High School\n",
      "Figueroa High School\n",
      "Wilson High School\n",
      "Wright High School\n"
     ]
    }
   ],
   "source": [
    "#list of high schools\n",
    "meanscoileanna = [\"Griffin High School\", \"Figueroa High School\", \"Wilson High School\", \"Wright High School\"]\n",
    "for scoil in meanscoileanna: \n",
    "    print(scoil)"
   ]
  },
  {
   "cell_type": "code",
   "execution_count": 16,
   "id": "d400ad90-4448-4d85-8d12-4c1929fce7c6",
   "metadata": {
    "collapsed": true,
    "jupyter": {
     "outputs_hidden": true
    },
    "tags": []
   },
   "outputs": [
    {
     "name": "stdout",
     "output_type": "stream",
     "text": [
      "{'High School': 'Griffin', 'Type': 'District'}\n",
      "{'High School': 'Figueroa', 'Type': 'District'}\n",
      "{'High School': 'Wilson', 'Type': 'Charter'}\n",
      "{'High School': 'Wright', 'Type': 'Charter'}\n"
     ]
    }
   ],
   "source": [
    "cineal_meanscoil = [{\"High School\": \"Griffin\", \"Type\": \"District\"},\n",
    "                    {\"High School\": \"Figueroa\", \"Type\": \"District\"},\n",
    "                    {\"High School\": \"Wilson\", \"Type\": \"Charter\"},\n",
    "                    {\"High School\": \"Wright\", \"Type\": \"Charter\"}]\n",
    "for scoil in cineal_meanscoil:\n",
    "    print(scoil) "
   ]
  },
  {
   "cell_type": "code",
   "execution_count": 18,
   "id": "5f3b7733-c3a2-4c36-8e21-5ca792edf037",
   "metadata": {},
   "outputs": [
    {
     "data": {
      "text/plain": [
       "0     Griffin High School\n",
       "1    Figueroa High School\n",
       "2      Wilson High School\n",
       "3      Wright High School\n",
       "dtype: object"
      ]
     },
     "execution_count": 18,
     "metadata": {},
     "output_type": "execute_result"
    }
   ],
   "source": [
    "# create a Pandas Series from a list.\n",
    "scoil_series = pd.Series(meanscoileanna)\n",
    "scoil_series"
   ]
  },
  {
   "cell_type": "code",
   "execution_count": 20,
   "id": "6ed72565-ec6e-42a0-ab63-885cf56664b3",
   "metadata": {},
   "outputs": [
    {
     "name": "stdout",
     "output_type": "stream",
     "text": [
      "{'School ID': 0, 'school_name': 'Huang High School', 'type': 'District'}\n",
      "{'School ID': 1, 'school_name': 'Figueroa High School', 'type': 'District'}\n",
      "{'School ID': 2, 'school_name': 'Shelton High School', 'type': 'Charter'}\n",
      "{'School ID': 3, 'school_name': 'Hernandez High School', 'type': 'District'}\n",
      "{'School ID': 4, 'school_name': 'Griffin High School', 'type': 'Charter'}\n"
     ]
    }
   ],
   "source": [
    "# A dictionary of high schools\n",
    "meanscoil_focloir = [{\"School ID\": 0, \"school_name\": \"Huang High School\", \"type\": \"District\"},\n",
    "                    {\"School ID\": 1, \"school_name\": \"Figueroa High School\", \"type\": \"District\"},\n",
    "                    {\"School ID\": 2, \"school_name\":\"Shelton High School\", \"type\": \"Charter\"},\n",
    "                    {\"School ID\": 3, \"school_name\":\"Hernandez High School\", \"type\": \"District\"},\n",
    "                    {\"School ID\": 4, \"school_name\":\"Griffin High School\", \"type\": \"Charter\"}] \n",
    "for scoil in meanscoil_focloir:\n",
    "    print(scoil)"
   ]
  },
  {
   "cell_type": "code",
   "execution_count": 21,
   "id": "1f8c7b37-c522-4b6e-9dbf-61c15b54ef34",
   "metadata": {},
   "outputs": [
    {
     "data": {
      "text/html": [
       "<div>\n",
       "<style scoped>\n",
       "    .dataframe tbody tr th:only-of-type {\n",
       "        vertical-align: middle;\n",
       "    }\n",
       "\n",
       "    .dataframe tbody tr th {\n",
       "        vertical-align: top;\n",
       "    }\n",
       "\n",
       "    .dataframe thead th {\n",
       "        text-align: right;\n",
       "    }\n",
       "</style>\n",
       "<table border=\"1\" class=\"dataframe\">\n",
       "  <thead>\n",
       "    <tr style=\"text-align: right;\">\n",
       "      <th></th>\n",
       "      <th>School ID</th>\n",
       "      <th>school_name</th>\n",
       "      <th>type</th>\n",
       "    </tr>\n",
       "  </thead>\n",
       "  <tbody>\n",
       "    <tr>\n",
       "      <th>0</th>\n",
       "      <td>0</td>\n",
       "      <td>Huang High School</td>\n",
       "      <td>District</td>\n",
       "    </tr>\n",
       "    <tr>\n",
       "      <th>1</th>\n",
       "      <td>1</td>\n",
       "      <td>Figueroa High School</td>\n",
       "      <td>District</td>\n",
       "    </tr>\n",
       "    <tr>\n",
       "      <th>2</th>\n",
       "      <td>2</td>\n",
       "      <td>Shelton High School</td>\n",
       "      <td>Charter</td>\n",
       "    </tr>\n",
       "    <tr>\n",
       "      <th>3</th>\n",
       "      <td>3</td>\n",
       "      <td>Hernandez High School</td>\n",
       "      <td>District</td>\n",
       "    </tr>\n",
       "    <tr>\n",
       "      <th>4</th>\n",
       "      <td>4</td>\n",
       "      <td>Griffin High School</td>\n",
       "      <td>Charter</td>\n",
       "    </tr>\n",
       "  </tbody>\n",
       "</table>\n",
       "</div>"
      ],
      "text/plain": [
       "   School ID            school_name      type\n",
       "0          0      Huang High School  District\n",
       "1          1   Figueroa High School  District\n",
       "2          2    Shelton High School   Charter\n",
       "3          3  Hernandez High School  District\n",
       "4          4    Griffin High School   Charter"
      ]
     },
     "execution_count": 21,
     "metadata": {},
     "output_type": "execute_result"
    }
   ],
   "source": [
    "scoil_df = pd.DataFrame(meanscoil_focloir)"
   ]
  },
  {
   "cell_type": "code",
   "execution_count": 22,
   "id": "55bff8f2-57b1-4bf2-a782-227d5484d7bd",
   "metadata": {},
   "outputs": [
    {
     "name": "stdout",
     "output_type": "stream",
     "text": [
      "District\n",
      "District\n",
      "Charter\n",
      "District\n",
      "Charter\n"
     ]
    }
   ],
   "source": [
    "# Three separate lists of information on high schools\n",
    "scoil_id = [0, 1, 2, 3, 4]\n",
    "\n",
    "scoil_ainm = [\"Huang High School\", \"Figueroa High School\",\n",
    "\"Shelton High School\", \"Hernandez High School\",\"Griffin High School\"]\n",
    "\n",
    "cineal_scoil = [\"District\", \"District\", \"Charter\", \"District\",\"Charter\"]"
   ]
  },
  {
   "cell_type": "code",
   "execution_count": 25,
   "id": "e9599718-e47b-4891-a493-163c92d68ce8",
   "metadata": {},
   "outputs": [],
   "source": [
    "scoileanna_df = pd.DataFrame()"
   ]
  },
  {
   "cell_type": "code",
   "execution_count": 27,
   "id": "ae9f1d6e-a48e-4ef0-b6e9-cd6e356ce4f7",
   "metadata": {},
   "outputs": [
    {
     "data": {
      "text/html": [
       "<div>\n",
       "<style scoped>\n",
       "    .dataframe tbody tr th:only-of-type {\n",
       "        vertical-align: middle;\n",
       "    }\n",
       "\n",
       "    .dataframe tbody tr th {\n",
       "        vertical-align: top;\n",
       "    }\n",
       "\n",
       "    .dataframe thead th {\n",
       "        text-align: right;\n",
       "    }\n",
       "</style>\n",
       "<table border=\"1\" class=\"dataframe\">\n",
       "  <thead>\n",
       "    <tr style=\"text-align: right;\">\n",
       "      <th></th>\n",
       "      <th>School ID</th>\n",
       "      <th>school_name</th>\n",
       "      <th>type</th>\n",
       "    </tr>\n",
       "  </thead>\n",
       "  <tbody>\n",
       "    <tr>\n",
       "      <th>0</th>\n",
       "      <td>0</td>\n",
       "      <td>Huang High School</td>\n",
       "      <td>District</td>\n",
       "    </tr>\n",
       "    <tr>\n",
       "      <th>1</th>\n",
       "      <td>1</td>\n",
       "      <td>Figueroa High School</td>\n",
       "      <td>District</td>\n",
       "    </tr>\n",
       "    <tr>\n",
       "      <th>2</th>\n",
       "      <td>2</td>\n",
       "      <td>Shelton High School</td>\n",
       "      <td>Charter</td>\n",
       "    </tr>\n",
       "    <tr>\n",
       "      <th>3</th>\n",
       "      <td>3</td>\n",
       "      <td>Hernandez High School</td>\n",
       "      <td>District</td>\n",
       "    </tr>\n",
       "    <tr>\n",
       "      <th>4</th>\n",
       "      <td>4</td>\n",
       "      <td>Griffin High School</td>\n",
       "      <td>Charter</td>\n",
       "    </tr>\n",
       "  </tbody>\n",
       "</table>\n",
       "</div>"
      ],
      "text/plain": [
       "   School ID            school_name      type\n",
       "0          0      Huang High School  District\n",
       "1          1   Figueroa High School  District\n",
       "2          2    Shelton High School   Charter\n",
       "3          3  Hernandez High School  District\n",
       "4          4    Griffin High School   Charter"
      ]
     },
     "execution_count": 27,
     "metadata": {},
     "output_type": "execute_result"
    }
   ],
   "source": [
    "scoileanna_df[\"School ID\"] = scoil_id\n",
    "scoileanna_df[\"school_name\"] = scoil_ainm\n",
    "scoileanna_df[\"type\"] = cineal_scoil\n",
    "scoileanna_df"
   ]
  },
  {
   "cell_type": "code",
   "execution_count": null,
   "id": "2235fd9c-e4e6-4edb-ba39-5e8422a1333c",
   "metadata": {},
   "outputs": [],
   "source": [
    "meanscoil_focloir = pd.DataFrame()"
   ]
  }
 ],
 "metadata": {
  "kernelspec": {
   "display_name": "PythonData",
   "language": "python",
   "name": "pythondata"
  },
  "language_info": {
   "codemirror_mode": {
    "name": "ipython",
    "version": 3
   },
   "file_extension": ".py",
   "mimetype": "text/x-python",
   "name": "python",
   "nbconvert_exporter": "python",
   "pygments_lexer": "ipython3",
   "version": "3.9.12"
  }
 },
 "nbformat": 4,
 "nbformat_minor": 5
}
